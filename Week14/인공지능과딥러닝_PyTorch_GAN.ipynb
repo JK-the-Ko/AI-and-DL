{
  "cells": [
    {
      "cell_type": "markdown",
      "metadata": {
        "id": "view-in-github",
        "colab_type": "text"
      },
      "source": [
        "<a href=\"https://colab.research.google.com/github/JK-the-Ko/AI-and-DL/blob/main/Week14/%EC%9D%B8%EA%B3%B5%EC%A7%80%EB%8A%A5%EA%B3%BC%EB%94%A5%EB%9F%AC%EB%8B%9D_PyTorch_GAN.ipynb\" target=\"_parent\"><img src=\"https://colab.research.google.com/assets/colab-badge.svg\" alt=\"Open In Colab\"/></a>"
      ]
    },
    {
      "cell_type": "markdown",
      "metadata": {
        "id": "QQ97dC_jLHvF"
      },
      "source": [
        "# Generative Adversarial Networks Using PyTorch Framework"
      ]
    },
    {
      "cell_type": "markdown",
      "metadata": {
        "id": "BX6s-j7fq3hA"
      },
      "source": [
        "## Check NVIDIA GPU Setting"
      ]
    },
    {
      "cell_type": "code",
      "execution_count": null,
      "metadata": {
        "id": "D_I7cz1Sq6S1"
      },
      "outputs": [],
      "source": [
        "!nvidia-smi"
      ]
    },
    {
      "cell_type": "markdown",
      "source": [
        "## Load MNIST Dataset"
      ],
      "metadata": {
        "id": "1sg71j-zWuau"
      }
    },
    {
      "cell_type": "code",
      "source": [
        "from torchvision.datasets import MNIST\n",
        "from torchvision import transforms"
      ],
      "metadata": {
        "id": "UvcYeIfuWwE9"
      },
      "execution_count": null,
      "outputs": []
    },
    {
      "cell_type": "code",
      "source": [
        "trainDataset = MNIST(root=\"content\", \n",
        "                     train=True, \n",
        "                     transform=transforms.Compose([transforms.Resize((32,32)), transforms.ToTensor(), transforms.Normalize(0.5, 0.5)]),\n",
        "                     download=True)\n",
        "testDataset = MNIST(root=\"content\", \n",
        "                    train=False, \n",
        "                    transform=transforms.Compose([transforms.Resize((32,32)), transforms.ToTensor(), transforms.Normalize(0.5, 0.5)]),\n",
        "                    download=True)"
      ],
      "metadata": {
        "id": "TRURIUnrW_1e"
      },
      "execution_count": null,
      "outputs": []
    },
    {
      "cell_type": "markdown",
      "source": [
        "## Vanilla GAN"
      ],
      "metadata": {
        "id": "jts0-RtH37-k"
      }
    },
    {
      "cell_type": "code",
      "execution_count": null,
      "metadata": {
        "id": "Lcjb8ky2PvGo"
      },
      "outputs": [],
      "source": [
        "from torch import nn\n",
        "import torch.nn.functional as F"
      ]
    },
    {
      "cell_type": "markdown",
      "source": [
        "### Generator"
      ],
      "metadata": {
        "id": "ZOpxvAj95LyM"
      }
    },
    {
      "cell_type": "code",
      "execution_count": null,
      "metadata": {
        "id": "VpMGcu1KP07P"
      },
      "outputs": [],
      "source": [
        "class Generator(nn.Module) :\n",
        "  def __init__(self, opt) :\n",
        "    super(Generator, self).__init__()\n",
        "\n",
        "    zDim = opt[\"zDim\"]\n",
        "    self.targetDim, self.targetSize = opt[\"targetDim\"], opt[\"targetSize\"]\n",
        "\n",
        "    self.block0 = nn.Sequential(nn.Linear(zDim, 128),\n",
        "                                nn.LeakyReLU(0.2))\n",
        "    self.block1 = nn.Sequential(nn.Linear(128, 256),\n",
        "                                nn.BatchNorm1d(256, 0.8),\n",
        "                                nn.LeakyReLU(0.2))\n",
        "    self.block2 = nn.Sequential(nn.Linear(256, 512),\n",
        "                                nn.BatchNorm1d(512, 0.8),\n",
        "                                nn.LeakyReLU(0.2))\n",
        "    self.block3 = nn.Sequential(nn.Linear(512, 1024),\n",
        "                                nn.BatchNorm1d(1024, 0.8),\n",
        "                                nn.LeakyReLU(0.2))\n",
        "    self.block4 = nn.Sequential(nn.Linear(1024, (self.targetSize**2)*self.targetDim),\n",
        "                                nn.Tanh())\n",
        "\n",
        "  def forward(self, z) :\n",
        "    output = self.block0(z)\n",
        "    output = self.block1(output)\n",
        "    output = self.block2(output)\n",
        "    output = self.block3(output)\n",
        "    output = self.block4(output)\n",
        "    output = output.view(-1, self.targetDim, self.targetSize, self.targetSize)\n",
        "\n",
        "    return output"
      ]
    },
    {
      "cell_type": "markdown",
      "source": [
        "### Discriminator"
      ],
      "metadata": {
        "id": "zzOyhxTf5Qo9"
      }
    },
    {
      "cell_type": "code",
      "source": [
        "class Discriminator(nn.Module) :\n",
        "  def __init__(self, opt) :\n",
        "    super(Discriminator, self).__init__()\n",
        "\n",
        "    self.targetDim, self.targetSize = opt[\"targetDim\"], opt[\"targetSize\"]\n",
        "\n",
        "    self.model = nn.Sequential(nn.Linear((self.targetSize**2)*self.targetDim, 512),\n",
        "                               nn.LeakyReLU(0.2),\n",
        "                               nn.Linear(512, 256),\n",
        "                               nn.LeakyReLU(0.2),\n",
        "                               nn.Linear(256, 1),\n",
        "                               nn.Sigmoid())\n",
        "\n",
        "  def forward(self, input) :\n",
        "    input = input.view(-1, (self.targetSize**2)*self.targetDim)\n",
        "    output = self.model(input)\n",
        "\n",
        "    return output"
      ],
      "metadata": {
        "id": "qI-tFdjI5P5o"
      },
      "execution_count": null,
      "outputs": []
    },
    {
      "cell_type": "markdown",
      "metadata": {
        "id": "3Wk4_cBzQU19"
      },
      "source": [
        "## Train DL Model"
      ]
    },
    {
      "cell_type": "code",
      "execution_count": null,
      "metadata": {
        "id": "0QJcgBk-QSsg"
      },
      "outputs": [],
      "source": [
        "import torch\n",
        "from torch.utils.data import DataLoader\n",
        "from torch import optim\n",
        "from torch.autograd import Variable\n",
        "\n",
        "from torchsummary import summary\n",
        "\n",
        "from tqdm import tqdm"
      ]
    },
    {
      "cell_type": "markdown",
      "metadata": {
        "id": "phpTOt47RjcB"
      },
      "source": [
        "### Fix Seed"
      ]
    },
    {
      "cell_type": "code",
      "execution_count": null,
      "metadata": {
        "id": "81NJ5JxbRnaU"
      },
      "outputs": [],
      "source": [
        "import random\n",
        "import numpy as np"
      ]
    },
    {
      "cell_type": "code",
      "execution_count": null,
      "metadata": {
        "id": "o8F_Z5d3RlH-"
      },
      "outputs": [],
      "source": [
        "def fixSeed(seed) :\n",
        "  random.seed(seed)\n",
        "  np.random.seed(seed)\n",
        "  torch.manual_seed(seed)\n",
        "  torch.cuda.manual_seed(seed)\n",
        "  torch.cuda.manual_seed_all(seed)\n",
        "  torch.backends.cudnn.deterministic = True\n",
        "  torch.backends.cudnn.benchmark = False"
      ]
    },
    {
      "cell_type": "markdown",
      "source": [
        "## Create Average Meter Instance"
      ],
      "metadata": {
        "id": "Jh4VCYXSswFY"
      }
    },
    {
      "cell_type": "code",
      "source": [
        "class AverageMeter(object):\n",
        "  def __init__(self):\n",
        "    self.reset()\n",
        "\n",
        "  def reset(self):\n",
        "    self.val = 0\n",
        "    self.avg = 0\n",
        "    self.sum = 0\n",
        "    self.count = 0\n",
        "\n",
        "  def update(self, val, n=1):\n",
        "    self.val = val\n",
        "    self.sum += val*n\n",
        "    self.count += n\n",
        "    self.avg = self.sum / self.count"
      ],
      "metadata": {
        "id": "oGUnMpzusxqw"
      },
      "execution_count": null,
      "outputs": []
    },
    {
      "cell_type": "markdown",
      "source": [
        "## Training Code as a Function (Abstraction)"
      ],
      "metadata": {
        "id": "lhJ28-fU6Zk7"
      }
    },
    {
      "cell_type": "code",
      "source": [
        "def train(opt, trainDataset, testDataset, modelG, modelD, criterion) :\n",
        "  fixSeed(opt[\"seed\"])\n",
        "\n",
        "  trainDataLoader = DataLoader(trainDataset, batch_size=opt[\"batchSize\"], shuffle=True, drop_last=True)\n",
        "  testDataLoader = DataLoader(testDataset, batch_size=opt[\"batchSize\"], shuffle=False, drop_last=False)\n",
        "\n",
        "  fixSeed(opt[\"seed\"])\n",
        "  modelG = Generator(opt)\n",
        "  modelD = Discriminator(opt)\n",
        "  if opt[\"isCUDA\"] :\n",
        "    modelG = modelG.cuda()\n",
        "    modelD = modelD.cuda()\n",
        "\n",
        "  optimizerG = optim.Adam(modelG.parameters(), lr=opt[\"lrG\"])\n",
        "  optimizerD = optim.Adam(modelD.parameters(), lr=opt[\"lrD\"])\n",
        "\n",
        "  Tensor = torch.cuda.FloatTensor if opt[\"isCUDA\"] else torch.FloatTensor\n",
        "  \n",
        "  trainGLoss, testGLoss = AverageMeter(), AverageMeter()\n",
        "  trainGLossList, testGLossList = [], []\n",
        "  bestLoss = torch.inf\n",
        "\n",
        "  for epoch in range(1, opt[\"epochs\"]+1) :\n",
        "    trainBar = tqdm(trainDataLoader)\n",
        "    trainGLoss.reset()\n",
        "\n",
        "    for data in trainBar :\n",
        "      input, target = data\n",
        "      if opt[\"isCUDA\"] :\n",
        "        input = input.cuda()\n",
        "\n",
        "      valid = Variable(Tensor(input.size(0), 1).fill_(1.0), requires_grad=False)\n",
        "      fake = Variable(Tensor(input.size(0), 1).fill_(0.0), requires_grad=False)\n",
        "\n",
        "      optimizerG.zero_grad()\n",
        "      z = Variable(Tensor(np.random.normal(0, 1, (opt[\"batchSize\"], opt[\"zDim\"]))))\n",
        "      lossG = criterion(modelD(modelG(z)), valid)\n",
        "      lossG.backward()\n",
        "      optimizerG.step()\n",
        "\n",
        "      optimizerD.zero_grad()\n",
        "      z = Variable(Tensor(np.random.normal(0, 1, (opt[\"batchSize\"], opt[\"zDim\"]))))\n",
        "      lossDReal = criterion(modelD(input), valid)\n",
        "      lossDFake = criterion(modelD(modelG(z).detach()), fake)\n",
        "      lossD = (lossDReal+lossDFake)/2\n",
        "      lossD.backward()\n",
        "      optimizerD.step()\n",
        "\n",
        "      trainGLoss.update(lossG.item(), opt[\"batchSize\"])\n",
        "      trainBar.set_description(desc=f\"[{epoch}/{opt['epochs']}] [Train] < Loss(G):{trainGLoss.avg:.6f} >\")\n",
        "\n",
        "    trainGLossList.append(trainGLoss.avg)\n",
        "\n",
        "    testBar = tqdm(testDataLoader)\n",
        "    testGLoss.reset()\n",
        "\n",
        "    for data in testBar :\n",
        "      input, target = data\n",
        "      if opt[\"isCUDA\"] :\n",
        "        input = input.cuda()\n",
        "\n",
        "      modelG.eval(), modelD.eval()\n",
        "      with torch.no_grad() :\n",
        "        z = Variable(Tensor(np.random.normal(0, 1, (opt[\"batchSize\"], opt[\"zDim\"]))))\n",
        "        lossG = criterion(modelD(modelG(z)), valid)\n",
        "\n",
        "        testGLoss.update(lossG.item(), opt[\"batchSize\"])\n",
        "\n",
        "        testBar.set_description(desc=f\"[{epoch}/{opt['epochs']}] [Test] < Loss:{testGLoss.avg:.6f} >\")\n",
        "\n",
        "    testGLossList.append(testGLoss.avg)\n",
        "\n",
        "    if testGLoss.avg < bestLoss :\n",
        "      bestLoss = testGLoss.avg\n",
        "      torch.save(modelG.state_dict(), opt[\"saveRoot\"]+\"bestModel.pth\")\n",
        "\n",
        "    torch.save(modelG.state_dict(), opt[\"saveRoot\"]+\"latestModel.pth\")\n",
        "\n",
        "  return (trainGLossList, testGLossList)"
      ],
      "metadata": {
        "id": "Toe0P0WH6c9p"
      },
      "execution_count": null,
      "outputs": []
    },
    {
      "cell_type": "markdown",
      "source": [
        "## Create Training Option (Hyperparameter) Dictionary"
      ],
      "metadata": {
        "id": "ttFH7GYJq6c3"
      }
    },
    {
      "cell_type": "code",
      "source": [
        "opt = {\"saveRoot\":\"/content/\",\n",
        "       \"targetSize\":32,\n",
        "       \"seed\":42,\n",
        "       \"targetDim\":1,\n",
        "       \"zDim\":100,\n",
        "       \"batchSize\":64, \n",
        "       \"lrG\":1e-4,\n",
        "       \"lrD\":4e-4, \n",
        "       \"epochs\":10, \n",
        "       \"isCUDA\":torch.cuda.is_available()}"
      ],
      "metadata": {
        "id": "tXzQHG9aq9xB"
      },
      "execution_count": null,
      "outputs": []
    },
    {
      "cell_type": "markdown",
      "source": [
        "## Train Model"
      ],
      "metadata": {
        "id": "VpE3M2q67qRu"
      }
    },
    {
      "cell_type": "code",
      "source": [
        "lossList = train(opt, trainDataset, testDataset, Generator, Discriminator, nn.BCELoss())"
      ],
      "metadata": {
        "id": "yV7Jgs_77c57"
      },
      "execution_count": null,
      "outputs": []
    },
    {
      "cell_type": "markdown",
      "metadata": {
        "id": "XrgUhJC67uzu"
      },
      "source": [
        "## Plot Training vs. Test Loss Graph"
      ]
    },
    {
      "cell_type": "code",
      "source": [
        "import matplotlib.pyplot as plt"
      ],
      "metadata": {
        "id": "_lIUGO11pAtu"
      },
      "execution_count": null,
      "outputs": []
    },
    {
      "cell_type": "code",
      "execution_count": null,
      "metadata": {
        "id": "mLsjFs3K7uzv"
      },
      "outputs": [],
      "source": [
        "plt.figure(figsize=(20,10))\n",
        "\n",
        "plt.plot(np.arange(0, opt[\"epochs\"], 1), lossList[0], label=\"Training Loss\")\n",
        "plt.plot(np.arange(0, opt[\"epochs\"], 1), lossList[1], label=\"Test Loss\")\n",
        "\n",
        "plt.xlabel(\"Epoch\")\n",
        "plt.ylabel(\"BCE Loss\")\n",
        "plt.legend(loc=\"best\")\n",
        "\n",
        "plt.show()"
      ]
    },
    {
      "cell_type": "markdown",
      "source": [
        "## Generate Images"
      ],
      "metadata": {
        "id": "RP4jlNz2e42r"
      }
    },
    {
      "cell_type": "markdown",
      "source": [
        "### Load Trained Model"
      ],
      "metadata": {
        "id": "5D-ZF3NhfGkO"
      }
    },
    {
      "cell_type": "code",
      "source": [
        "weights = torch.load(\"/content/latestModel.pth\")\n",
        "\n",
        "model = Generator(opt)\n",
        "model.load_state_dict(weights)\n",
        "if opt[\"isCUDA\"] :\n",
        "  model = model.cuda()"
      ],
      "metadata": {
        "id": "lxfxB9W1fIPE"
      },
      "execution_count": null,
      "outputs": []
    },
    {
      "cell_type": "markdown",
      "source": [
        "### Get Model Structure"
      ],
      "metadata": {
        "id": "8jjN8rSngATu"
      }
    },
    {
      "cell_type": "code",
      "source": [
        "print(model)"
      ],
      "metadata": {
        "id": "Z_vtvoYCfOgg"
      },
      "execution_count": null,
      "outputs": []
    },
    {
      "cell_type": "markdown",
      "source": [
        "### Inference"
      ],
      "metadata": {
        "id": "jKM5ipJXgDEZ"
      }
    },
    {
      "cell_type": "code",
      "source": [
        "numImage = 64"
      ],
      "metadata": {
        "id": "KJgrq9TTBLkE"
      },
      "execution_count": null,
      "outputs": []
    },
    {
      "cell_type": "code",
      "source": [
        "Tensor = torch.cuda.FloatTensor if opt[\"isCUDA\"] else torch.FloatTensor\n",
        "z = Variable(Tensor(np.random.normal(0, 1, (numImage, opt[\"zDim\"]))))"
      ],
      "metadata": {
        "id": "vmCDcLqBBFFu"
      },
      "execution_count": null,
      "outputs": []
    },
    {
      "cell_type": "code",
      "source": [
        "gen = model(z)"
      ],
      "metadata": {
        "id": "s5wN60q0BOmt"
      },
      "execution_count": null,
      "outputs": []
    },
    {
      "cell_type": "markdown",
      "source": [
        "### Visualize Result"
      ],
      "metadata": {
        "id": "_Y4zTFDSBiFq"
      }
    },
    {
      "cell_type": "code",
      "source": [
        "from torchvision.utils import make_grid"
      ],
      "metadata": {
        "id": "O3GO4CgTBjqA"
      },
      "execution_count": null,
      "outputs": []
    },
    {
      "cell_type": "code",
      "source": [
        "plt.imshow(make_grid(gen, normalize=True).permute(1,2,0).detach().cpu())\n",
        "plt.show()"
      ],
      "metadata": {
        "id": "IF92JXzgBeSS"
      },
      "execution_count": null,
      "outputs": []
    },
    {
      "cell_type": "markdown",
      "source": [
        "### Load Trained Model"
      ],
      "metadata": {
        "id": "QdAOlsgnp-rQ"
      }
    },
    {
      "cell_type": "code",
      "source": [
        "weights = torch.load(\"/content/latestModel-200.pth\")\n",
        "\n",
        "model = Generator(opt)\n",
        "model.load_state_dict(weights)\n",
        "if opt[\"isCUDA\"] :\n",
        "  model = model.cuda()"
      ],
      "metadata": {
        "id": "4HxiA1iVp-rQ"
      },
      "execution_count": null,
      "outputs": []
    },
    {
      "cell_type": "markdown",
      "source": [
        "### Inference"
      ],
      "metadata": {
        "id": "ok0vtbfhtHIg"
      }
    },
    {
      "cell_type": "code",
      "source": [
        "numImage = 64"
      ],
      "metadata": {
        "id": "rKj7NA8ytHIh"
      },
      "execution_count": null,
      "outputs": []
    },
    {
      "cell_type": "code",
      "source": [
        "Tensor = torch.cuda.FloatTensor if opt[\"isCUDA\"] else torch.FloatTensor\n",
        "z = Variable(Tensor(np.random.normal(0, 1, (numImage, opt[\"zDim\"]))))"
      ],
      "metadata": {
        "id": "WQ7Yvp5etHIh"
      },
      "execution_count": null,
      "outputs": []
    },
    {
      "cell_type": "code",
      "source": [
        "gen = model(z)"
      ],
      "metadata": {
        "id": "S5c4NPOmtHIi"
      },
      "execution_count": null,
      "outputs": []
    },
    {
      "cell_type": "markdown",
      "source": [
        "### Visualize Result"
      ],
      "metadata": {
        "id": "UhHC8nYQtKyH"
      }
    },
    {
      "cell_type": "code",
      "source": [
        "plt.imshow(make_grid(gen, normalize=True).permute(1,2,0).detach().cpu())\n",
        "plt.show()"
      ],
      "metadata": {
        "id": "m4deQ37EqAWj"
      },
      "execution_count": null,
      "outputs": []
    }
  ],
  "metadata": {
    "accelerator": "GPU",
    "colab": {
      "provenance": [],
      "include_colab_link": true
    },
    "gpuClass": "standard",
    "kernelspec": {
      "display_name": "Python 3",
      "name": "python3"
    },
    "language_info": {
      "name": "python"
    }
  },
  "nbformat": 4,
  "nbformat_minor": 0
}