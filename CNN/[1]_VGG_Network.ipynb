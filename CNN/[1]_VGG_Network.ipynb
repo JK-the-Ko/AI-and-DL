{
  "nbformat": 4,
  "nbformat_minor": 0,
  "metadata": {
    "colab": {
      "provenance": [],
      "collapsed_sections": [
        "o2wCtvU3BXiT",
        "GVipXM2FBZDP",
        "6KnwCFsNK_2i",
        "PrKxN3M-LGRw",
        "q_3f9qtXLKJQ"
      ],
      "toc_visible": true,
      "gpuType": "T4",
      "authorship_tag": "ABX9TyPpUCmORULwfZnl+F+MDq/1",
      "include_colab_link": true
    },
    "kernelspec": {
      "name": "python3",
      "display_name": "Python 3"
    },
    "language_info": {
      "name": "python"
    },
    "accelerator": "GPU"
  },
  "cells": [
    {
      "cell_type": "markdown",
      "metadata": {
        "id": "view-in-github",
        "colab_type": "text"
      },
      "source": [
        "<a href=\"https://colab.research.google.com/github/JK-the-Ko/AI-and-DL/blob/main/CNN/%5B1%5D_VGG_Network.ipynb\" target=\"_parent\"><img src=\"https://colab.research.google.com/assets/colab-badge.svg\" alt=\"Open In Colab\"/></a>"
      ]
    },
    {
      "cell_type": "markdown",
      "source": [
        "# **VGG 모델을 활용한 이미지 분류 (Image Classification)**"
      ],
      "metadata": {
        "id": "VG5Bu-Kd9-jj"
      }
    },
    {
      "cell_type": "markdown",
      "source": [
        "## 1. 라이브러리 불러오기"
      ],
      "metadata": {
        "id": "EvASHmatLACE"
      }
    },
    {
      "cell_type": "code",
      "execution_count": null,
      "metadata": {
        "id": "MRcMh-6uKTSd"
      },
      "outputs": [],
      "source": [
        "import random\n",
        "\n",
        "import numpy as np\n",
        "\n",
        "import torch\n",
        "from torch import nn\n",
        "import torch.nn.functional as F\n",
        "\n",
        "from torchsummary import summary"
      ]
    },
    {
      "cell_type": "markdown",
      "source": [
        "## 2. 시드 고정"
      ],
      "metadata": {
        "id": "caX_syK3LM0U"
      }
    },
    {
      "cell_type": "code",
      "source": [
        "def fix_seed(seed) :\n",
        "  # Fix Seed\n",
        "  random.seed(seed)\n",
        "  np.random.seed(seed)\n",
        "  torch.manual_seed(seed)\n",
        "  torch.cuda.manual_seed(seed)\n",
        "  torch.cuda.manual_seed_all(seed)\n",
        "  torch.backends.cudnn.deterministic = True\n",
        "  torch.backends.cudnn.benchmark = False"
      ],
      "metadata": {
        "id": "ACxI_AumLBko"
      },
      "execution_count": null,
      "outputs": []
    },
    {
      "cell_type": "markdown",
      "source": [
        "## 3. 손실 함수 및 평가 지표 평균화"
      ],
      "metadata": {
        "id": "A3FJF87wLUhy"
      }
    },
    {
      "cell_type": "code",
      "source": [
        "class AverageMeter(object) :\n",
        "  def __init__(self) :\n",
        "    self.reset()\n",
        "\n",
        "  def reset(self) :\n",
        "    self.val = 0\n",
        "    self.avg = 0\n",
        "    self.sum = 0\n",
        "    self.count = 0\n",
        "\n",
        "  def update(self, val, n=1) :\n",
        "    self.val = val\n",
        "    self.sum += val*n\n",
        "    self.count += n\n",
        "    self.avg = self.sum/self.count"
      ],
      "metadata": {
        "id": "wmEXfyG3LT_H"
      },
      "execution_count": null,
      "outputs": []
    },
    {
      "cell_type": "markdown",
      "source": [
        "## 4. VGG 모델 구성 레이어"
      ],
      "metadata": {
        "id": "rn4ZfibD-IOF"
      }
    },
    {
      "cell_type": "markdown",
      "source": [
        "### A. Convolutional Layer"
      ],
      "metadata": {
        "id": "nAb3RQDD_zeP"
      }
    },
    {
      "cell_type": "markdown",
      "source": [
        "#### i. Convolution → ReLU Block"
      ],
      "metadata": {
        "id": "QT__zAP9-KrM"
      }
    },
    {
      "cell_type": "code",
      "source": [
        "########## Conv-ReLU-Block Implementation ##########\n",
        "class ConvBlock(nn.Module) :\n",
        "  def __init__(self, in_channels, out_channels, num_layers) :\n",
        "    super().__init__()\n",
        "    # Create Convolutional Layer Instance\n",
        "\n",
        "    if num_layers == 2 :\n",
        "      self.conv_block = nn.Sequential(nn.Conv2d(in_channels, out_channels, kernel_size=3, stride=1, padding=1),\n",
        "                                      nn.ReLU(inplace=True),\n",
        "                                      nn.Conv2d(out_channels, out_channels, kernel_size=3, stride=1, padding=1),\n",
        "                                      nn.ReLU(inplace=True))\n",
        "    elif num_layers == 3 :\n",
        "      self.conv_block = nn.Sequential(nn.Conv2d(in_channels, out_channels, kernel_size=3, stride=1, padding=1),\n",
        "                                      nn.ReLU(inplace=True),\n",
        "                                      nn.Conv2d(out_channels, out_channels, kernel_size=3, stride=1, padding=1),\n",
        "                                      nn.ReLU(inplace=True),\n",
        "                                      nn.Conv2d(out_channels, out_channels, kernel_size=3, stride=1, padding=1),\n",
        "                                      nn.ReLU(inplace=True))\n",
        "\n",
        "  def forward(self, x) :\n",
        "    return self.conv_block(x)"
      ],
      "metadata": {
        "id": "zPvcMmqS-KYs"
      },
      "execution_count": null,
      "outputs": []
    },
    {
      "cell_type": "markdown",
      "source": [
        "#### ii. Convolution → Batch Norm → ReLU Block"
      ],
      "metadata": {
        "id": "yf6-PZlo_DSR"
      }
    },
    {
      "cell_type": "code",
      "source": [
        "########## Conv-BN-ReLU-Block Implementation ##########\n",
        "class ConvBlockwithBN(nn.Module) :\n",
        "  def __init__(self, in_channels, out_channels, num_layers) :\n",
        "    super().__init__()\n",
        "    # Create Convolutional Layer Instance\n",
        "\n",
        "    if num_layers == 2 :\n",
        "      self.conv_block = nn.Sequential(nn.Conv2d(in_channels, out_channels, kernel_size=3, stride=1, padding=1, bias=False),\n",
        "                                      nn.BatchNorm2d(out_channels),\n",
        "                                      nn.ReLU(inplace=True),\n",
        "                                      nn.Conv2d(out_channels, out_channels, kernel_size=3, stride=1, padding=1, bias=False),\n",
        "                                      nn.BatchNorm2d(out_channels),\n",
        "                                      nn.ReLU(inplace=True))\n",
        "    elif num_layers == 3 :\n",
        "      self.conv_block = nn.Sequential(nn.Conv2d(in_channels, out_channels, kernel_size=3, stride=1, padding=1, bias=False),\n",
        "                                      nn.BatchNorm2d(out_channels),\n",
        "                                      nn.ReLU(inplace=True),\n",
        "                                      nn.Conv2d(out_channels, out_channels, kernel_size=3, stride=1, padding=1, bias=False),\n",
        "                                      nn.BatchNorm2d(out_channels),\n",
        "                                      nn.ReLU(inplace=True),\n",
        "                                      nn.Conv2d(out_channels, out_channels, kernel_size=3, stride=1, padding=1, bias=False),\n",
        "                                      nn.BatchNorm2d(out_channels),\n",
        "                                      nn.ReLU(inplace=True))\n",
        "\n",
        "  def forward(self, x) :\n",
        "      return self.conv_block(x)"
      ],
      "metadata": {
        "id": "FVZgfMJF_IOP"
      },
      "execution_count": null,
      "outputs": []
    },
    {
      "cell_type": "markdown",
      "source": [
        "### B. Linear (MLP) Layer"
      ],
      "metadata": {
        "id": "L1tkLIDP_2kj"
      }
    },
    {
      "cell_type": "markdown",
      "source": [
        "####  i. Linear → ReLU Block"
      ],
      "metadata": {
        "id": "Vq43h9mu_gsA"
      }
    },
    {
      "cell_type": "code",
      "source": [
        "########## Linear-ReLU-Block Implementation ##########\n",
        "class LinearBlock(nn.Module) :\n",
        "  def __init__(self, in_channels, num_classes) :\n",
        "    super().__init__()\n",
        "    # Create Linear Layer Instance\n",
        "\n",
        "    self.linear_block = nn.Sequential(nn.Linear(in_channels, in_channels),\n",
        "                                      nn.ReLU(inplace=True),\n",
        "                                      nn.Linear(in_channels, in_channels),\n",
        "                                      nn.ReLU(inplace=True),\n",
        "                                      nn.Linear(in_channels, num_classes))\n",
        "\n",
        "  def forward(self, x) :\n",
        "      return self.linear_block(x)"
      ],
      "metadata": {
        "id": "8ZmKcPte_ilC"
      },
      "execution_count": null,
      "outputs": []
    },
    {
      "cell_type": "markdown",
      "source": [
        "####  ii. Linear → Dropout → ReLU Block"
      ],
      "metadata": {
        "id": "IxGXaJQk_5lM"
      }
    },
    {
      "cell_type": "code",
      "source": [
        "########## Linear-Dropout-ReLU-Block Implementation ##########\n",
        "class LinearBlockwithDropout(nn.Module) :\n",
        "  def __init__(self, in_channels, num_classes, p) :\n",
        "    super().__init__()\n",
        "    # Create Linear Layer Instance\n",
        "\n",
        "    self.linear_block = nn.Sequential(nn.Linear(in_channels, in_channels),\n",
        "                                      nn.Dropout(p),\n",
        "                                      nn.ReLU(inplace=True),\n",
        "                                      nn.Linear(in_channels, in_channels),\n",
        "                                      nn.Dropout(p),\n",
        "                                      nn.ReLU(inplace=True),\n",
        "                                      nn.Linear(in_channels, num_classes))\n",
        "\n",
        "  def forward(self, x) :\n",
        "      return self.linear_block(x)"
      ],
      "metadata": {
        "id": "L-GEYBiO_5lM"
      },
      "execution_count": null,
      "outputs": []
    },
    {
      "cell_type": "markdown",
      "source": [
        "## 5. VGG-16 스타일 모델"
      ],
      "metadata": {
        "id": "Fb-lR58sAGC0"
      }
    },
    {
      "cell_type": "markdown",
      "source": [
        "### A. 기본 모델"
      ],
      "metadata": {
        "id": "moxYMDb1APFI"
      }
    },
    {
      "cell_type": "code",
      "source": [
        "########## VGG-16-Like Model Implementation ##########\n",
        "class VGG16(nn.Module) :\n",
        "  def __init__(self, img_channels, width, num_classes) :\n",
        "    super().__init__()\n",
        "\n",
        "    # Create Convolutional Layer Instance\n",
        "    self.conv_block_1 = ConvBlock(img_channels, width, num_layers=2)\n",
        "    self.conv_block_2 = ConvBlock(width, width*2, num_layers=2)\n",
        "    self.conv_block_3 = ConvBlock(width*2, width*4, num_layers=3)\n",
        "    self.conv_block_4 = ConvBlock(width*4, width*4, num_layers=3)\n",
        "    self.conv_block_5 = ConvBlock(width*4, width*4, num_layers=3)\n",
        "\n",
        "    # Create Classifier Layer Instance\n",
        "    self.classifier = LinearBlock(width*4, num_classes)\n",
        "\n",
        "  def forward(self, x) :\n",
        "    x = self.conv_block_1(x) # H x W\n",
        "    x = F.max_pool2d(x, 2, 2)\n",
        "\n",
        "    x = self.conv_block_2(x) # H/2 x W/2\n",
        "    x = F.max_pool2d(x, 2, 2)\n",
        "\n",
        "    x = self.conv_block_3(x) # H/4 x W/4\n",
        "    x = F.max_pool2d(x, 2, 2)\n",
        "\n",
        "    x = self.conv_block_4(x) # H/8 x W/8\n",
        "    x = F.max_pool2d(x, 2, 2)\n",
        "\n",
        "    x = self.conv_block_5(x) # H/16 x W/16\n",
        "    x = F.max_pool2d(x, 2, 2)\n",
        "\n",
        "    x = F.adaptive_avg_pool2d(x, 1).flatten(start_dim=1)\n",
        "    x = self.classifier(x)\n",
        "\n",
        "    return x"
      ],
      "metadata": {
        "id": "wmKwitN4AJ77"
      },
      "execution_count": null,
      "outputs": []
    },
    {
      "cell_type": "markdown",
      "source": [
        "### B. 정칙화 (Batch Norm & Dropout) 적용 모델"
      ],
      "metadata": {
        "id": "nAa4zBPwAY-j"
      }
    },
    {
      "cell_type": "code",
      "source": [
        "########## VGG-16-BN-Like Model Implementation ##########\n",
        "class VGG16withBN(nn.Module) :\n",
        "  def __init__(self, img_channels, width, num_classes, p) :\n",
        "    super().__init__()\n",
        "\n",
        "    # Create Convolutional Layer Instance\n",
        "    self.conv_block_1 = ConvBlockwithBN(img_channels, width, num_layers=2)\n",
        "    self.conv_block_2 = ConvBlockwithBN(width, width*2, num_layers=2)\n",
        "    self.conv_block_3 = ConvBlockwithBN(width*2, width*4, num_layers=3)\n",
        "    self.conv_block_4 = ConvBlockwithBN(width*4, width*4, num_layers=3)\n",
        "    self.conv_block_5 = ConvBlockwithBN(width*4, width*4, num_layers=3)\n",
        "\n",
        "    # Create Classifier Layer Instance\n",
        "    self.classifier = LinearBlockwithDropout(width*4, num_classes, p)\n",
        "\n",
        "  def forward(self, x) :\n",
        "    x = self.conv_block_1(x) # H x W\n",
        "    x = F.max_pool2d(x, 2, 2)\n",
        "\n",
        "    x = self.conv_block_2(x) # H/2 x W/2\n",
        "    x = F.max_pool2d(x, 2, 2)\n",
        "\n",
        "    x = self.conv_block_3(x) # H/4 x W/4\n",
        "    x = F.max_pool2d(x, 2, 2)\n",
        "\n",
        "    x = self.conv_block_4(x) # H/8 x W/8\n",
        "    x = F.max_pool2d(x, 2, 2)\n",
        "\n",
        "    x = self.conv_block_5(x) # H/16 x W/16\n",
        "    x = F.max_pool2d(x, 2, 2)\n",
        "\n",
        "    x = F.adaptive_avg_pool2d(x, 1).flatten(start_dim=1)\n",
        "    x = self.classifier(x)\n",
        "\n",
        "    return x"
      ],
      "metadata": {
        "id": "t30seN_CAaEV"
      },
      "execution_count": null,
      "outputs": []
    },
    {
      "cell_type": "markdown",
      "source": [
        "## 6. VGG-16 스타일 모델 인스턴스 생성 및 Feed-Forward"
      ],
      "metadata": {
        "id": "_F9qjZPZAjGa"
      }
    },
    {
      "cell_type": "code",
      "source": [
        "# Check Device\n",
        "device = \"cuda\" if torch.cuda.is_available() else \"cpu\"\n",
        "print(f\"Current Device : {device}\")\n",
        "\n",
        "# Set Model Parameter\n",
        "img_channels, width, num_classes, p = 1, 16, 10, 0.25\n",
        "\n",
        "# Create Model Instance\n",
        "model = VGG16(img_channels, width, num_classes).to(device)\n",
        "model_bn = VGG16withBN(img_channels, width, num_classes, p).to(device)\n",
        "\n",
        "# Summarize Model\n",
        "img_size = 32"
      ],
      "metadata": {
        "id": "I7mCYjQDApLO"
      },
      "execution_count": null,
      "outputs": []
    },
    {
      "cell_type": "code",
      "source": [
        "summary(model, (img_channels, img_size, img_size))"
      ],
      "metadata": {
        "id": "PocovRCkBGhU"
      },
      "execution_count": null,
      "outputs": []
    },
    {
      "cell_type": "code",
      "source": [
        "summary(model_bn, (img_channels, img_size, img_size))"
      ],
      "metadata": {
        "id": "4Mz6ZSEmBGt-"
      },
      "execution_count": null,
      "outputs": []
    },
    {
      "cell_type": "markdown",
      "source": [
        "## 7. VGG-16 스타일 이미지 분류 모델 훈련 진행"
      ],
      "metadata": {
        "id": "Vjo1WO6gBnYN"
      }
    },
    {
      "cell_type": "markdown",
      "source": [
        "### **MNIST 데이터셋 (손글씨 데이터셋)**\n",
        "#### https://www.tensorflow.org/datasets/catalog/mnist?hl=ko\n",
        "![image.png](data:image/png;base64,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)"
      ],
      "metadata": {
        "id": "sYim4YtoKhLW"
      }
    },
    {
      "cell_type": "markdown",
      "source": [
        "### 훈련 (Train) 함수"
      ],
      "metadata": {
        "id": "a3Kqce8ICDy4"
      }
    },
    {
      "cell_type": "markdown",
      "source": [
        "#### 라이브러리 불러오기"
      ],
      "metadata": {
        "id": "sNYLgFETCftg"
      }
    },
    {
      "cell_type": "markdown",
      "source": [
        "##### Torchmetrics 라이브러리 설치"
      ],
      "metadata": {
        "id": "_PAsix2vCt44"
      }
    },
    {
      "cell_type": "code",
      "source": [
        "!pip3 install torchmetrics"
      ],
      "metadata": {
        "id": "IuLcEWh7CwzD"
      },
      "execution_count": null,
      "outputs": []
    },
    {
      "cell_type": "code",
      "source": [
        "from os import makedirs\n",
        "\n",
        "import matplotlib.pyplot as plt\n",
        "\n",
        "from torch import optim\n",
        "from torch.utils.data import DataLoader\n",
        "from torchvision import datasets, transforms\n",
        "\n",
        "from torchmetrics import Accuracy\n",
        "from tqdm import tqdm"
      ],
      "metadata": {
        "id": "ZAbjfFOyCjjg"
      },
      "execution_count": null,
      "outputs": []
    },
    {
      "cell_type": "code",
      "source": [
        "########## Training Code ##########\n",
        "def train_and_valid(vgg_model, model_name:str, img_size:int=32, num_classes:int=10, lr:float=1e-2, total_epochs:int=5, seed:int=42, batch_size:int=64) :\n",
        "  # Load Dataset\n",
        "  transform = transforms.Compose([transforms.Resize((img_size, img_size)), # Linear Interpolation\n",
        "                                  transforms.ToTensor()]) # [0,255] → [0,1] Normalization\n",
        "\n",
        "  # Download Fashion MNIST Dataset\n",
        "  train_dataset = datasets.FashionMNIST(\"data/\", train=True, transform=transform, download=True)\n",
        "  test_dataset = datasets.FashionMNIST(\"data/\", train=False, transform=transform, download=True)\n",
        "\n",
        "  # Fix Seed\n",
        "  fix_seed(seed)\n",
        "\n",
        "  # Create DataLoader\n",
        "  train_loader = DataLoader(train_dataset, batch_size=batch_size, shuffle=True, num_workers=4, drop_last=True)\n",
        "  test_loader = DataLoader(test_dataset, batch_size=batch_size, shuffle=False, num_workers=4)\n",
        "\n",
        "  # Check Device\n",
        "  device = \"cuda\" if torch.cuda.is_available() else \"cpu\"\n",
        "  print(f\"Current Device : {device}\")\n",
        "\n",
        "  # Fix Seed\n",
        "  fix_seed(seed)\n",
        "\n",
        "  # Create Model Instance\n",
        "  model = vgg_model.to(device)\n",
        "\n",
        "  # Summarize Model\n",
        "  summary(model, (img_channels, img_size, img_size))\n",
        "\n",
        "  # Create Optimizer Instance\n",
        "  optimizer = optim.SGD(model.parameters(), lr=lr)\n",
        "\n",
        "  # Create Loss Instance\n",
        "  criterion = nn.CrossEntropyLoss()\n",
        "\n",
        "  # Create Metric Instance\n",
        "  metric = Accuracy(\"multiclass\", num_classes=num_classes).to(device)\n",
        "\n",
        "  # Create AverageMeter Instance\n",
        "  train_loss, train_acc = AverageMeter(), AverageMeter()\n",
        "  test_loss, test_acc = AverageMeter(), AverageMeter()\n",
        "\n",
        "  # Create List Instance\n",
        "  train_loss_list, train_acc_list = [], []\n",
        "  test_loss_list, test_acc_list = [], []\n",
        "\n",
        "  # Create Directory\n",
        "  ckpt_dir, graph_dir = f\"ckpt/{model_name}\", f\"ckpt/{model_name}\"\n",
        "  makedirs(ckpt_dir, exist_ok=True), makedirs(graph_dir, exist_ok=True)\n",
        "\n",
        "  # Set Best Accuracy\n",
        "  best_acc = 0\n",
        "\n",
        "  # Start Training\n",
        "  for epoch in range(total_epochs) :\n",
        "    # Create TQDM Bar Instance\n",
        "    train_bar = tqdm(train_loader)\n",
        "\n",
        "    # Reset AverageMeter\n",
        "    train_loss.reset(), train_acc.reset()\n",
        "\n",
        "    # Set Training Mode\n",
        "    model.train()\n",
        "\n",
        "    # Training Phase\n",
        "    for data in train_bar :\n",
        "      img, label = data\n",
        "      img, label = img.to(device), label.to(device)\n",
        "\n",
        "      # Update Classifier Weights\n",
        "      optimizer.zero_grad()\n",
        "      pred = model(img)\n",
        "      loss = criterion(pred, label)\n",
        "      loss.backward()\n",
        "      optimizer.step()\n",
        "\n",
        "      # Compute Metric\n",
        "      acc = metric(pred, label)\n",
        "\n",
        "      # Update AverageMeter\n",
        "      train_loss.update(loss.cpu().item()), train_acc.update(acc.cpu().item())\n",
        "\n",
        "      # Show Training Status\n",
        "      train_bar.set_description(desc=f\"[Train] [{epoch+1}/{total_epochs}] < Loss:{train_loss.avg:.4f} | Acc.:{train_acc.avg:.4f} >\")\n",
        "\n",
        "    # Add Training Loss and Accuracy\n",
        "    train_loss_list.append(train_loss.avg), train_acc_list.append(train_acc.avg)\n",
        "\n",
        "    # Create TQDM Bar Instance\n",
        "    test_bar = tqdm(test_loader)\n",
        "\n",
        "    # Reset AverageMeter\n",
        "    test_loss.reset(), test_acc.reset()\n",
        "\n",
        "    # Evaluate Model\n",
        "    with torch.no_grad() :\n",
        "      # Set Test Mode\n",
        "      model.eval()\n",
        "\n",
        "      for data in test_bar :\n",
        "        img, label = data\n",
        "        img, label = img.to(device), label.to(device)\n",
        "\n",
        "        # Update Classifier Weights\n",
        "        pred = model(img)\n",
        "        loss = criterion(pred, label)\n",
        "\n",
        "        # Compute Metric\n",
        "        acc = metric(pred, label)\n",
        "\n",
        "        # Update AverageMeter\n",
        "        test_loss.update(loss.cpu().item()), test_acc.update(acc.cpu().item())\n",
        "\n",
        "        # Show Training Status\n",
        "        test_bar.set_description(desc=f\"[Test] [{epoch+1}/{total_epochs}] < Loss:{test_loss.avg:.4f} | Acc.:{test_acc.avg:.4f} >\")\n",
        "\n",
        "    # Add Test Loss and Accuracy\n",
        "    test_loss_list.append(test_loss.avg), test_acc_list.append(test_acc.avg)\n",
        "\n",
        "    # Save Network\n",
        "    if test_acc.avg > best_acc :\n",
        "        best_acc = test_acc.avg\n",
        "        torch.save(model.state_dict(), f\"{ckpt_dir}/best.pth\")\n",
        "    torch.save(model.state_dict(), f\"{ckpt_dir}/latest.pth\")\n",
        "\n",
        "    # Plot Training vs. Test Loss Graph\n",
        "    plt.clf()\n",
        "    plt.plot(np.arange(epoch+1), train_loss_list, label=\"Training Loss\")\n",
        "    plt.plot(np.arange(epoch+1), test_loss_list, label=\"Test Loss\")\n",
        "    plt.title(\"Loss (Training vs. Test)\")\n",
        "    plt.xlabel(\"Epoch\"), plt.ylabel(\"Loss\")\n",
        "    plt.legend(loc=\"best\")\n",
        "    plt.savefig(f\"{graph_dir}/loss.png\")\n",
        "\n",
        "    # Plot Training vs. Test Accuracy Graph\n",
        "    plt.clf()\n",
        "    plt.plot(np.arange(epoch+1), train_acc_list, label=\"Training Accuracy\")\n",
        "    plt.plot(np.arange(epoch+1), test_acc_list, label=\"Test Accuracy\")\n",
        "    plt.title(\"Accuracy (Training vs. Test)\")\n",
        "    plt.xlabel(\"Epoch\"), plt.ylabel(\"Accuracy\")\n",
        "    plt.legend(loc=\"best\")\n",
        "    plt.savefig(f\"{graph_dir}/accuracy.png\")"
      ],
      "metadata": {
        "id": "jwg26WsNCLH2"
      },
      "execution_count": null,
      "outputs": []
    },
    {
      "cell_type": "markdown",
      "source": [
        "### VGG-16 스타일 기본 모델 훈련"
      ],
      "metadata": {
        "id": "7LKKcpsHD5Hg"
      }
    },
    {
      "cell_type": "code",
      "source": [
        "train_and_valid(model, model_name=\"vgg16\")"
      ],
      "metadata": {
        "id": "N-u549ArD2jA"
      },
      "execution_count": null,
      "outputs": []
    },
    {
      "cell_type": "markdown",
      "source": [
        "### VGG-16 스타일 정칙화 추가 모델 훈련"
      ],
      "metadata": {
        "id": "m1TsE8HrEQDn"
      }
    },
    {
      "cell_type": "code",
      "source": [
        "train_and_valid(model_bn, model_name=\"vgg16_bn\")"
      ],
      "metadata": {
        "id": "dlbEZ1mzEQDo"
      },
      "execution_count": null,
      "outputs": []
    },
    {
      "cell_type": "markdown",
      "source": [
        "## 추론 (Inference)"
      ],
      "metadata": {
        "id": "-xIASHAYE5kD"
      }
    },
    {
      "cell_type": "markdown",
      "source": [
        "### 훈련한 모델의 가중치 파일을 활용"
      ],
      "metadata": {
        "id": "cvt8rFs_E7__"
      }
    },
    {
      "cell_type": "code",
      "source": [
        "########## Inference Code ##########\n",
        "def inference(model, weight_path:str, img_size=32, num_classes=10, p=0.25, batch_size=64) :\n",
        "  # Load Dataset\n",
        "  transform = transforms.Compose([transforms.Resize((img_size, img_size)),\n",
        "                                  transforms.ToTensor()])\n",
        "\n",
        "  # Download Fashion MNIST Dataset\n",
        "  test_dataset = datasets.FashionMNIST(\"data/\", train=False, transform=transform, download=True)\n",
        "\n",
        "  # Create DataLoader\n",
        "  test_loader = DataLoader(test_dataset, batch_size=batch_size, shuffle=False, num_workers=4)\n",
        "\n",
        "  # Check Device\n",
        "  device = \"cuda\" if torch.cuda.is_available() else \"cpu\"\n",
        "  print(f\"Current Device : {device}\")\n",
        "\n",
        "  # Create Model Instance\n",
        "  model = model.to(device)\n",
        "\n",
        "  # Load Pretraind Weight\n",
        "  model.load_state_dict(torch.load(weight_path), strict=True)\n",
        "\n",
        "  # Summarize Model\n",
        "  summary(model, (img_channels, img_size, img_size))\n",
        "\n",
        "  # Create Metric Instance\n",
        "  metric = Accuracy(\"multiclass\", num_classes=num_classes).to(device)\n",
        "\n",
        "  # Create AverageMeter Instance\n",
        "  test_acc = AverageMeter()\n",
        "\n",
        "  # Create Directory\n",
        "  graph_dir = f\"result/test/\"\n",
        "  makedirs(graph_dir, exist_ok=True)\n",
        "\n",
        "  # Create TQDM Bar Instance\n",
        "  test_bar = tqdm(test_loader)\n",
        "\n",
        "  # Evaluate Model\n",
        "  with torch.no_grad() :\n",
        "    # Set Test Mode\n",
        "    model.eval()\n",
        "\n",
        "    for data in test_bar :\n",
        "      img, label = data\n",
        "      img, label = img.to(device), label.to(device)\n",
        "\n",
        "      # Inference\n",
        "      pred_model = model(img)\n",
        "\n",
        "      # Compute Metric\n",
        "      acc = metric(pred_model, label)\n",
        "\n",
        "      # Update AverageMeter\n",
        "      test_acc.update(acc.cpu().item())\n",
        "\n",
        "      # Show Test Status\n",
        "      test_bar.set_description(desc=f\"[Test] < Model Accuracy : {test_acc.avg:.4f} >\")"
      ],
      "metadata": {
        "id": "Mh6bsKNkFCvW"
      },
      "execution_count": null,
      "outputs": []
    },
    {
      "cell_type": "markdown",
      "source": [
        "#### VGG-16 스타일 기본 모델 이미지 추론"
      ],
      "metadata": {
        "id": "OVre1umVItTu"
      }
    },
    {
      "cell_type": "code",
      "source": [
        "inference(model, \"/content/ckpt/vgg16/latest.pth\")"
      ],
      "metadata": {
        "id": "mk3ui5KdIxFg"
      },
      "execution_count": null,
      "outputs": []
    },
    {
      "cell_type": "markdown",
      "source": [
        "#### VGG-16 스타일 정칙화 추가 모델 이미지 추론"
      ],
      "metadata": {
        "id": "5JE_j3rzI3-d"
      }
    },
    {
      "cell_type": "code",
      "source": [
        "inference(model_bn, \"/content/ckpt/vgg16_bn/latest.pth\")"
      ],
      "metadata": {
        "id": "XbWY-JStI3-e"
      },
      "execution_count": null,
      "outputs": []
    },
    {
      "cell_type": "markdown",
      "source": [
        "## 실습"
      ],
      "metadata": {
        "id": "o2wCtvU3BXiT"
      }
    },
    {
      "cell_type": "markdown",
      "source": [
        "### 빈칸 (Fill-In)을 채워 VGG-19 스타일의 모델을 제작해보세요!"
      ],
      "metadata": {
        "id": "GVipXM2FBZDP"
      }
    },
    {
      "cell_type": "code",
      "source": [
        "########## Conv-BN-ReLU-Block Implementation ##########\n",
        "class ConvBlockwithBN(nn.Module) :\n",
        "  def __init__(self, in_channels, out_channels, num_layers) :\n",
        "    super().__init__()\n",
        "    # Create Convolutional Layer Instance\n",
        "\n",
        "    if num_layers == 2 :\n",
        "      self.conv_block = nn.Sequential(nn.Conv2d(in_channels, out_channels, kernel_size=3, stride=1, padding=1, bias=False),\n",
        "                                      nn.BatchNorm2d(out_channels),\n",
        "                                      nn.ReLU(inplace=True),\n",
        "                                      nn.Conv2d(out_channels, out_channels, kernel_size=3, stride=1, padding=1, bias=False),\n",
        "                                      nn.BatchNorm2d(out_channels),\n",
        "                                      nn.ReLU(inplace=True))\n",
        "    elif num_layers == 3 :\n",
        "      self.conv_block = nn.Sequential(nn.Conv2d(in_channels, out_channels, kernel_size=3, stride=1, padding=1, bias=False),\n",
        "                                      nn.BatchNorm2d(out_channels),\n",
        "                                      nn.ReLU(inplace=True),\n",
        "                                      nn.Conv2d(out_channels, out_channels, kernel_size=3, stride=1, padding=1, bias=False),\n",
        "                                      nn.BatchNorm2d(out_channels),\n",
        "                                      nn.ReLU(inplace=True),\n",
        "                                      nn.Conv2d(out_channels, out_channels, kernel_size=3, stride=1, padding=1, bias=False),\n",
        "                                      nn.BatchNorm2d(out_channels),\n",
        "                                      nn.ReLU(inplace=True))\n",
        "    elif num_layers == 4 :\n",
        "      self.conv_block = # Fill-In\n",
        "\n",
        "  def forward(self, x) :\n",
        "      return self.conv_block(x)"
      ],
      "metadata": {
        "id": "8SdEZ5HaK7eK"
      },
      "execution_count": null,
      "outputs": []
    },
    {
      "cell_type": "code",
      "source": [
        "########## VGG-19-BN-Like Model Implementation ##########\n",
        "class VGG19withBN(nn.Module) :\n",
        "  def __init__(self, img_channels, width, num_classes, p) :\n",
        "    super().__init__()\n",
        "\n",
        "    # Create Convolutional Layer Instance\n",
        "    self.conv_block_1 = # Fill-In\n",
        "    self.conv_block_2 = # Fill-In\n",
        "    self.conv_block_3 = # Fill-In\n",
        "    self.conv_block_4 = # Fill-In\n",
        "    self.conv_block_5 = # Fill-In\n",
        "\n",
        "    # Create Classifier Layer Instance\n",
        "    self.classifier = # Fill-In\n",
        "\n",
        "  def forward(self, x) :\n",
        "    x = self.conv_block_1(x) # H x W\n",
        "    x = F.max_pool2d(x, 2, 2)\n",
        "\n",
        "    x = self.conv_block_2(x) # H/2 x W/2\n",
        "    x = F.max_pool2d(x, 2, 2)\n",
        "\n",
        "    x = self.conv_block_3(x) # H/4 x W/4\n",
        "    x = F.max_pool2d(x, 2, 2)\n",
        "\n",
        "    x = self.conv_block_4(x) # H/8 x W/8\n",
        "    x = F.max_pool2d(x, 2, 2)\n",
        "\n",
        "    x = self.conv_block_5(x) # H/16 x W/16\n",
        "    x = F.max_pool2d(x, 2, 2)\n",
        "\n",
        "    x = F.adaptive_avg_pool2d(x, 1).flatten(start_dim=1)\n",
        "    x = self.classifier(x)\n",
        "\n",
        "    return x"
      ],
      "metadata": {
        "id": "XV0deqZhBRwo"
      },
      "execution_count": null,
      "outputs": []
    },
    {
      "cell_type": "code",
      "source": [
        "img_channels, width, num_classes, p = 1, 16, 10, 0.25"
      ],
      "metadata": {
        "id": "7Ozqkuk2J13L"
      },
      "execution_count": null,
      "outputs": []
    },
    {
      "cell_type": "code",
      "source": [
        "# Check Device\n",
        "device = \"cuda\" if torch.cuda.is_available() else \"cpu\"\n",
        "print(f\"Current Device : {device}\")\n",
        "\n",
        "# Set Model Parameter\n",
        "img_channels, width, num_classes, p = 1, 16, 10, 0.25\n",
        "\n",
        "# Create Model Instance\n",
        "model_bn = # Fill-In\n",
        "\n",
        "# Summarize Model\n",
        "img_size = 32"
      ],
      "metadata": {
        "id": "9NkMmIzXKJHw"
      },
      "execution_count": null,
      "outputs": []
    },
    {
      "cell_type": "code",
      "source": [
        "summary(model, (img_channels, img_size, img_size))"
      ],
      "metadata": {
        "id": "Avpz1ZkHKJHw"
      },
      "execution_count": null,
      "outputs": []
    },
    {
      "cell_type": "code",
      "source": [
        "train_and_valid(model, model_name=\"vgg19_bn\")"
      ],
      "metadata": {
        "id": "IHdnyZM7JnKD"
      },
      "execution_count": null,
      "outputs": []
    },
    {
      "cell_type": "code",
      "source": [
        "inference(model, \"/content/ckpt/vgg19_bn/latest.pth\")"
      ],
      "metadata": {
        "id": "15rUbxugKann"
      },
      "execution_count": null,
      "outputs": []
    },
    {
      "cell_type": "markdown",
      "source": [
        "### 실습 정답"
      ],
      "metadata": {
        "id": "6KnwCFsNK_2i"
      }
    },
    {
      "cell_type": "markdown",
      "source": [
        "#### A. Conv-BN-ReLU Block"
      ],
      "metadata": {
        "id": "PrKxN3M-LGRw"
      }
    },
    {
      "cell_type": "code",
      "source": [
        "########## Conv-BN-ReLU-Block Implementation ##########\n",
        "class ConvBlockwithBN(nn.Module) :\n",
        "  def __init__(self, in_channels, out_channels, num_layers) :\n",
        "    super().__init__()\n",
        "    # Create Convolutional Layer Instance\n",
        "\n",
        "    if num_layers == 2 :\n",
        "      self.conv_block = nn.Sequential(nn.Conv2d(in_channels, out_channels, kernel_size=3, stride=1, padding=1, bias=False),\n",
        "                                      nn.BatchNorm2d(out_channels),\n",
        "                                      nn.ReLU(inplace=True),\n",
        "                                      nn.Conv2d(out_channels, out_channels, kernel_size=3, stride=1, padding=1, bias=False),\n",
        "                                      nn.BatchNorm2d(out_channels),\n",
        "                                      nn.ReLU(inplace=True))\n",
        "    elif num_layers == 3 :\n",
        "      self.conv_block = nn.Sequential(nn.Conv2d(in_channels, out_channels, kernel_size=3, stride=1, padding=1, bias=False),\n",
        "                                      nn.BatchNorm2d(out_channels),\n",
        "                                      nn.ReLU(inplace=True),\n",
        "                                      nn.Conv2d(out_channels, out_channels, kernel_size=3, stride=1, padding=1, bias=False),\n",
        "                                      nn.BatchNorm2d(out_channels),\n",
        "                                      nn.ReLU(inplace=True),\n",
        "                                      nn.Conv2d(out_channels, out_channels, kernel_size=3, stride=1, padding=1, bias=False),\n",
        "                                      nn.BatchNorm2d(out_channels),\n",
        "                                      nn.ReLU(inplace=True))\n",
        "    elif num_layers == 4 :\n",
        "      self.conv_block = nn.Sequential(nn.Conv2d(in_channels, out_channels, kernel_size=3, stride=1, padding=1, bias=False),\n",
        "                                      nn.BatchNorm2d(out_channels),\n",
        "                                      nn.ReLU(inplace=True),\n",
        "                                      nn.Conv2d(out_channels, out_channels, kernel_size=3, stride=1, padding=1, bias=False),\n",
        "                                      nn.BatchNorm2d(out_channels),\n",
        "                                      nn.ReLU(inplace=True),\n",
        "                                      nn.Conv2d(out_channels, out_channels, kernel_size=3, stride=1, padding=1, bias=False),\n",
        "                                      nn.BatchNorm2d(out_channels),\n",
        "                                      nn.ReLU(inplace=True),\n",
        "                                      nn.Conv2d(out_channels, out_channels, kernel_size=3, stride=1, padding=1, bias=False),\n",
        "                                      nn.BatchNorm2d(out_channels),\n",
        "                                      nn.ReLU(inplace=True))\n",
        "\n",
        "  def forward(self, x) :\n",
        "      return self.conv_block(x)"
      ],
      "metadata": {
        "id": "dcDVRNcFLAtu"
      },
      "execution_count": null,
      "outputs": []
    },
    {
      "cell_type": "markdown",
      "source": [
        "#### B. VGG19withBN"
      ],
      "metadata": {
        "id": "q_3f9qtXLKJQ"
      }
    },
    {
      "cell_type": "code",
      "source": [
        "########## VGG-19-BN-Like Model Implementation ##########\n",
        "class VGG19withBN(nn.Module) :\n",
        "  def __init__(self, img_channels, width, num_classes, p) :\n",
        "    super().__init__()\n",
        "\n",
        "    # Create Convolutional Layer Instance\n",
        "    self.conv_block_1 = ConvBlockwithBN(img_channels, width, num_layers=2)\n",
        "    self.conv_block_2 = ConvBlockwithBN(width, width*2, num_layers=2)\n",
        "    self.conv_block_3 = ConvBlockwithBN(width*2, width*4, num_layers=4)\n",
        "    self.conv_block_4 = ConvBlockwithBN(width*4, width*4, num_layers=4)\n",
        "    self.conv_block_5 = ConvBlockwithBN(width*4, width*4, num_layers=4)\n",
        "\n",
        "    # Create Classifier Layer Instance\n",
        "    self.classifier = LinearBlockwithDropout(width*4, num_classes, p)\n",
        "\n",
        "  def forward(self, x) :\n",
        "    x = self.conv_block_1(x) # H x W\n",
        "    x = F.max_pool2d(x, 2, 2)\n",
        "\n",
        "    x = self.conv_block_2(x) # H/2 x W/2\n",
        "    x = F.max_pool2d(x, 2, 2)\n",
        "\n",
        "    x = self.conv_block_3(x) # H/4 x W/4\n",
        "    x = F.max_pool2d(x, 2, 2)\n",
        "\n",
        "    x = self.conv_block_4(x) # H/8 x W/8\n",
        "    x = F.max_pool2d(x, 2, 2)\n",
        "\n",
        "    x = self.conv_block_5(x) # H/16 x W/16\n",
        "    x = F.max_pool2d(x, 2, 2)\n",
        "\n",
        "    x = F.adaptive_avg_pool2d(x, 1).flatten(start_dim=1)\n",
        "    x = self.classifier(x)\n",
        "\n",
        "    return x"
      ],
      "metadata": {
        "id": "i1CRtCZrLL-7"
      },
      "execution_count": null,
      "outputs": []
    }
  ]
}